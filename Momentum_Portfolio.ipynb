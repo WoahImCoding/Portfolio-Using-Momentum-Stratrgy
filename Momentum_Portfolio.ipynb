{
  "nbformat": 4,
  "nbformat_minor": 0,
  "metadata": {
    "colab": {
      "provenance": []
    },
    "kernelspec": {
      "name": "python3",
      "display_name": "Python 3"
    },
    "language_info": {
      "name": "python"
    }
  },
  "cells": [
    {
      "cell_type": "code",
      "execution_count": 1,
      "metadata": {
        "colab": {
          "base_uri": "https://localhost:8080/"
        },
        "id": "eXGhrcgZGoSo",
        "outputId": "c438f2ea-6b7f-4dcd-da60-14bf204fe4a1"
      },
      "outputs": [
        {
          "output_type": "stream",
          "name": "stdout",
          "text": [
            "Requirement already satisfied: yfinance in /usr/local/lib/python3.11/dist-packages (0.2.52)\n",
            "Requirement already satisfied: pandas>=1.3.0 in /usr/local/lib/python3.11/dist-packages (from yfinance) (2.2.2)\n",
            "Requirement already satisfied: numpy>=1.16.5 in /usr/local/lib/python3.11/dist-packages (from yfinance) (1.26.4)\n",
            "Requirement already satisfied: requests>=2.31 in /usr/local/lib/python3.11/dist-packages (from yfinance) (2.32.3)\n",
            "Requirement already satisfied: multitasking>=0.0.7 in /usr/local/lib/python3.11/dist-packages (from yfinance) (0.0.11)\n",
            "Requirement already satisfied: lxml>=4.9.1 in /usr/local/lib/python3.11/dist-packages (from yfinance) (5.3.0)\n",
            "Requirement already satisfied: platformdirs>=2.0.0 in /usr/local/lib/python3.11/dist-packages (from yfinance) (4.3.6)\n",
            "Requirement already satisfied: pytz>=2022.5 in /usr/local/lib/python3.11/dist-packages (from yfinance) (2025.1)\n",
            "Requirement already satisfied: frozendict>=2.3.4 in /usr/local/lib/python3.11/dist-packages (from yfinance) (2.4.6)\n",
            "Requirement already satisfied: peewee>=3.16.2 in /usr/local/lib/python3.11/dist-packages (from yfinance) (3.17.9)\n",
            "Requirement already satisfied: beautifulsoup4>=4.11.1 in /usr/local/lib/python3.11/dist-packages (from yfinance) (4.13.3)\n",
            "Requirement already satisfied: html5lib>=1.1 in /usr/local/lib/python3.11/dist-packages (from yfinance) (1.1)\n",
            "Requirement already satisfied: soupsieve>1.2 in /usr/local/lib/python3.11/dist-packages (from beautifulsoup4>=4.11.1->yfinance) (2.6)\n",
            "Requirement already satisfied: typing-extensions>=4.0.0 in /usr/local/lib/python3.11/dist-packages (from beautifulsoup4>=4.11.1->yfinance) (4.12.2)\n",
            "Requirement already satisfied: six>=1.9 in /usr/local/lib/python3.11/dist-packages (from html5lib>=1.1->yfinance) (1.17.0)\n",
            "Requirement already satisfied: webencodings in /usr/local/lib/python3.11/dist-packages (from html5lib>=1.1->yfinance) (0.5.1)\n",
            "Requirement already satisfied: python-dateutil>=2.8.2 in /usr/local/lib/python3.11/dist-packages (from pandas>=1.3.0->yfinance) (2.8.2)\n",
            "Requirement already satisfied: tzdata>=2022.7 in /usr/local/lib/python3.11/dist-packages (from pandas>=1.3.0->yfinance) (2025.1)\n",
            "Requirement already satisfied: charset-normalizer<4,>=2 in /usr/local/lib/python3.11/dist-packages (from requests>=2.31->yfinance) (3.4.1)\n",
            "Requirement already satisfied: idna<4,>=2.5 in /usr/local/lib/python3.11/dist-packages (from requests>=2.31->yfinance) (3.10)\n",
            "Requirement already satisfied: urllib3<3,>=1.21.1 in /usr/local/lib/python3.11/dist-packages (from requests>=2.31->yfinance) (2.3.0)\n",
            "Requirement already satisfied: certifi>=2017.4.17 in /usr/local/lib/python3.11/dist-packages (from requests>=2.31->yfinance) (2025.1.31)\n"
          ]
        }
      ],
      "source": [
        "!pip install yfinance"
      ]
    },
    {
      "cell_type": "code",
      "source": [
        "import yfinance as yf\n",
        "\n",
        "# List of Nifty 50 tickers (NSE format with .NS suffix)\n",
        "nifty_50_tickers = [\n",
        "    \"RELIANCE.NS\", \"TCS.NS\", \"INFY.NS\", \"HDFCBANK.NS\", \"ICICIBANK.NS\", \"HINDUNILVR.NS\", \"SBIN.NS\", \"BHARTIARTL.NS\",\n",
        "    \"ASIANPAINT.NS\", \"ITC.NS\", \"KOTAKBANK.NS\", \"LT.NS\", \"HCLTECH.NS\", \"AXISBANK.NS\", \"MARUTI.NS\", \"SUNPHARMA.NS\",\n",
        "    \"TITAN.NS\", \"BAJFINANCE.NS\", \"WIPRO.NS\", \"ULTRACEMCO.NS\", \"NESTLEIND.NS\", \"TATASTEEL.NS\", \"POWERGRID.NS\",\n",
        "    \"ONGC.NS\", \"COALINDIA.NS\", \"INDUSINDBK.NS\", \"TECHM.NS\", \"GRASIM.NS\", \"ADANIPORTS.NS\", \"NTPC.NS\", \"JSWSTEEL.NS\",\n",
        "    \"CIPLA.NS\", \"BAJAJFINSV.NS\", \"HDFCLIFE.NS\", \"DIVISLAB.NS\", \"DRREDDY.NS\", \"BPCL.NS\", \"SBILIFE.NS\", \"EICHERMOT.NS\",\n",
        "    \"BRITANNIA.NS\", \"HEROMOTOCO.NS\", \"M&M.NS\", \"HINDALCO.NS\", \"APOLLOHOSP.NS\", \"TATAMOTORS.NS\", \"BAJAJ-AUTO.NS\",\n",
        "    \"SHREECEM.NS\", \"UPL.NS\", \"ICICIGI.NS\", \"ICICIPRULI.NS\", \"DLF.NS\"\n",
        "]\n",
        "\n",
        "# Fetch historical data (last 10 year)\n",
        "start_date = \"2010-01-07\"\n",
        "end_date = \"2019-06-07\"\n",
        "\n",
        "# Download Adjusted Close prices\n",
        "stock_data = yf.download(nifty_50_tickers, start=start_date, end=end_date)\n",
        "print(stock_data)\n"
      ],
      "metadata": {
        "colab": {
          "base_uri": "https://localhost:8080/"
        },
        "id": "SFw0iKT-KLgg",
        "outputId": "aff1d185-f603-46c4-f218-6a86a504aa0b"
      },
      "execution_count": 16,
      "outputs": [
        {
          "output_type": "stream",
          "name": "stderr",
          "text": [
            "[*********************100%***********************]  51 of 51 completed\n"
          ]
        },
        {
          "output_type": "stream",
          "name": "stdout",
          "text": [
            "Price              Close                                          \\\n",
            "Ticker     ADANIPORTS.NS APOLLOHOSP.NS ASIANPAINT.NS AXISBANK.NS   \n",
            "Date                                                               \n",
            "2010-01-07    109.824646    332.426605    156.045578  182.552109   \n",
            "2010-01-08    109.695930    331.309021    158.623367  184.936737   \n",
            "2010-01-11    113.428139    330.843292    158.354568  191.025726   \n",
            "2010-01-12    115.128784    327.350708    162.487793  191.007553   \n",
            "2010-01-13    119.476913    331.076111    163.765701  189.369232   \n",
            "...                  ...           ...           ...         ...   \n",
            "2019-05-30    394.675842   1181.245605   1311.909546  803.049377   \n",
            "2019-05-31    401.522186   1216.398560   1343.118530  803.795227   \n",
            "2019-06-03    409.573853   1332.755859   1392.698975  808.120972   \n",
            "2019-06-04    410.345276   1308.207642   1356.670410  818.214355   \n",
            "2019-06-06    411.068451   1317.879517   1363.399048  803.198547   \n",
            "\n",
            "Price                                                               \\\n",
            "Ticker     BAJAJ-AUTO.NS BAJAJFINSV.NS BAJFINANCE.NS BHARTIARTL.NS   \n",
            "Date                                                                 \n",
            "2010-01-07    576.071350     33.726692     30.512306    275.850739   \n",
            "2010-01-08    566.539307     33.823322     31.067316    272.207886   \n",
            "2010-01-11    571.433838     33.973110     31.853210    275.473877   \n",
            "2010-01-12    583.122131     33.156513     30.654383    269.863037   \n",
            "2010-01-13    584.456970     32.803795     29.038195    266.639008   \n",
            "...                  ...           ...           ...           ...   \n",
            "2019-05-30   2471.800049    820.514648   3417.681641    334.186493   \n",
            "2019-05-31   2455.769043    816.629944   3403.398682    336.210724   \n",
            "2019-06-03   2547.003418    832.602600   3446.541504    340.018127   \n",
            "2019-06-04   2504.449951    829.086853   3466.271973    339.680725   \n",
            "2019-06-06   2510.954590    810.371582   3389.508789    341.030212   \n",
            "\n",
            "Price                                ...      Volume               \\\n",
            "Ticker         BPCL.NS BRITANNIA.NS  ... SHREECEM.NS SUNPHARMA.NS   \n",
            "Date                                 ...                            \n",
            "2010-01-07   26.000809   135.787979  ...     36846.0     923100.0   \n",
            "2010-01-08   26.441818   136.088516  ...     16820.0    3298080.0   \n",
            "2010-01-11   26.372515   136.055557  ...     34698.0    1032970.0   \n",
            "2010-01-12   26.357809   137.216629  ...     12655.0    1534080.0   \n",
            "2010-01-13   26.452312   136.718430  ...      9520.0     934880.0   \n",
            "...                ...          ...  ...         ...          ...   \n",
            "2019-05-30  139.853561  2598.134277  ...     26839.0    9082367.0   \n",
            "2019-05-31  140.436783  2629.450928  ...     51448.0    5643400.0   \n",
            "2019-06-03  143.095612  2672.871094  ...     17878.0    4611475.0   \n",
            "2019-06-04  140.093704  2666.481934  ...     24518.0    3279047.0   \n",
            "2019-06-06  136.216995  2610.913086  ...     39208.0    3483633.0   \n",
            "\n",
            "Price                                                                    \\\n",
            "Ticker     TATAMOTORS.NS TATASTEEL.NS      TCS.NS   TECHM.NS   TITAN.NS   \n",
            "Date                                                                      \n",
            "2010-01-07    22722030.0   80144960.0   6474892.0   734988.0  3218340.0   \n",
            "2010-01-08    16495776.0   86063510.0   6048178.0  2080960.0   478240.0   \n",
            "2010-01-11    11776347.0   69701832.0   4318408.0  1319720.0   406280.0   \n",
            "2010-01-12    10657130.0   71713280.0   9027690.0  1315112.0   393860.0   \n",
            "2010-01-13    17659374.0  108267579.0  10910272.0  2910448.0   525280.0   \n",
            "...                  ...          ...         ...        ...        ...   \n",
            "2019-05-30    18078726.0   72043630.0   4971725.0  3367426.0  1081863.0   \n",
            "2019-05-31    21488115.0  102769910.0   4265370.0  5503111.0  1213810.0   \n",
            "2019-06-03    21288078.0   85053920.0   3682419.0  2826290.0  1627758.0   \n",
            "2019-06-04    17428731.0   62125660.0   2408658.0  2332547.0  1378780.0   \n",
            "2019-06-06    16874819.0   72227990.0   3735467.0  3225967.0  2345134.0   \n",
            "\n",
            "Price                                            \n",
            "Ticker     ULTRACEMCO.NS     UPL.NS    WIPRO.NS  \n",
            "Date                                             \n",
            "2010-01-07      185302.0   795439.0   9165297.0  \n",
            "2010-01-08      335191.0  1325607.0   5713679.0  \n",
            "2010-01-11      240284.0  1353213.0  11355777.0  \n",
            "2010-01-12      114835.0   892738.0  20789812.0  \n",
            "2010-01-13      242789.0   669516.0  22567181.0  \n",
            "...                  ...        ...         ...  \n",
            "2019-05-30      767519.0  3646278.0  23151914.0  \n",
            "2019-05-31      577772.0  2379486.0  14648962.0  \n",
            "2019-06-03      641635.0  1674882.0  11706676.0  \n",
            "2019-06-04      529891.0  1706593.0  22163334.0  \n",
            "2019-06-06      761710.0  2405782.0  17201760.0  \n",
            "\n",
            "[2321 rows x 255 columns]\n"
          ]
        }
      ]
    },
    {
      "cell_type": "code",
      "source": [
        "print(stock_data.shape)"
      ],
      "metadata": {
        "colab": {
          "base_uri": "https://localhost:8080/"
        },
        "id": "BGWs2zKGS7I0",
        "outputId": "42469e5d-0a06-4ead-c90a-e94aad32b9ac"
      },
      "execution_count": 18,
      "outputs": [
        {
          "output_type": "stream",
          "name": "stdout",
          "text": [
            "(2321, 255)\n"
          ]
        }
      ]
    },
    {
      "source": [
        "import pandas as pd\n",
        "\n",
        "# Define lookback periods (3-month, 6-month, 12-month momentum)\n",
        "lookback_periods = {\"3M\": 63, \"6M\": 126, \"12M\": 252}\n",
        "\n",
        "# Compute momentum returns for each stock and store in a list of DataFrames\n",
        "momentum_dfs = []\n",
        "for period, days in lookback_periods.items():\n",
        "    # Calculate momentum returns explicitly setting fill_method=None\n",
        "    momentum_return = stock_data['Close'].pct_change(periods=days, fill_method=None)\n",
        "    momentum_return.columns = pd.MultiIndex.from_product([[period], momentum_return.columns])\n",
        "    momentum_dfs.append(momentum_return)\n",
        "\n",
        "# Concatenate the DataFrames along the columns\n",
        "momentum_df = pd.concat(momentum_dfs, axis=1)\n",
        "\n",
        "\n",
        "# Ensure the index matches the available dates in stock_data\n",
        "momentum_df = momentum_df.reindex(stock_data.index)\n",
        "\n",
        "print(momentum_df.tail())  # Display last few rows"
      ],
      "cell_type": "code",
      "metadata": {
        "colab": {
          "base_uri": "https://localhost:8080/"
        },
        "id": "-TWbXoyVZR0d",
        "outputId": "6abf65a9-8cda-4941-b6e9-c5277e6d2854"
      },
      "execution_count": 30,
      "outputs": [
        {
          "output_type": "stream",
          "name": "stdout",
          "text": [
            "                      3M                                          \\\n",
            "Ticker     ADANIPORTS.NS APOLLOHOSP.NS ASIANPAINT.NS AXISBANK.NS   \n",
            "Date                                                               \n",
            "2019-05-30      0.150527      0.044089     -0.016597    0.158276   \n",
            "2019-05-31      0.175275      0.080789      0.006797    0.151342   \n",
            "2019-06-03      0.308735      0.143038      0.043626    0.154825   \n",
            "2019-06-04      0.315456      0.151164      0.013909    0.158628   \n",
            "2019-06-06      0.310684      0.167798      0.016255    0.124617   \n",
            "\n",
            "                                                                              \\\n",
            "Ticker     BAJAJ-AUTO.NS BAJAJFINSV.NS BAJFINANCE.NS BHARTIARTL.NS   BPCL.NS   \n",
            "Date                                                                           \n",
            "2019-05-30      0.046572      0.333566      0.311504      0.218443  0.215777   \n",
            "2019-05-31      0.038713      0.321564      0.313097      0.210396  0.189279   \n",
            "2019-06-03      0.065688      0.318076      0.321061      0.210984  0.241184   \n",
            "2019-06-04      0.043577      0.288284      0.328624      0.216685  0.212981   \n",
            "2019-06-06      0.026401      0.265637      0.306945      0.203586  0.200635   \n",
            "\n",
            "                         ...         12M                             \\\n",
            "Ticker     BRITANNIA.NS  ... SHREECEM.NS SUNPHARMA.NS TATAMOTORS.NS   \n",
            "Date                     ...                                          \n",
            "2019-05-30    -0.038130  ...    0.312436    -0.109498     -0.424984   \n",
            "2019-05-31    -0.030155  ...    0.349614    -0.073609     -0.416695   \n",
            "2019-06-03    -0.025589  ...    0.341947    -0.077137     -0.432889   \n",
            "2019-06-04    -0.035920  ...    0.326044    -0.088138     -0.440136   \n",
            "2019-06-06    -0.051412  ...    0.279360    -0.124190     -0.412091   \n",
            "\n",
            "                                                                               \\\n",
            "Ticker     TATASTEEL.NS    TCS.NS  TECHM.NS  TITAN.NS ULTRACEMCO.NS    UPL.NS   \n",
            "Date                                                                            \n",
            "2019-05-30    -0.160219  0.243698  0.084736  0.325635      0.236573  0.446813   \n",
            "2019-05-31    -0.138644  0.253241  0.134593  0.356088      0.239004  0.493517   \n",
            "2019-06-03    -0.121846  0.296790  0.128759  0.391154      0.271494  0.506254   \n",
            "2019-06-04    -0.062088  0.277795  0.097239  0.362312      0.271257  0.505064   \n",
            "2019-06-06    -0.100262  0.229638  0.060991  0.383922      0.252882  0.486860   \n",
            "\n",
            "                      \n",
            "Ticker      WIPRO.NS  \n",
            "Date                  \n",
            "2019-05-30  0.436127  \n",
            "2019-05-31  0.449987  \n",
            "2019-06-03  0.474239  \n",
            "2019-06-04  0.495102  \n",
            "2019-06-06  0.478599  \n",
            "\n",
            "[5 rows x 153 columns]\n"
          ]
        }
      ]
    },
    {
      "cell_type": "code",
      "source": [
        "print(momentum_df.shape)"
      ],
      "metadata": {
        "colab": {
          "base_uri": "https://localhost:8080/"
        },
        "id": "xdfl5kIoPGPa",
        "outputId": "2564a2fd-b5e5-4884-8b0a-005feef75518"
      },
      "execution_count": 24,
      "outputs": [
        {
          "output_type": "stream",
          "name": "stdout",
          "text": [
            "(2321, 153)\n"
          ]
        }
      ]
    },
    {
      "cell_type": "markdown",
      "source": [
        "### List of top momentum stocks for each period(3M,6M,12M)"
      ],
      "metadata": {
        "id": "m-03JCTYa2NA"
      }
    },
    {
      "cell_type": "code",
      "source": [
        "#Ranking stocks based on the momentum returns\n",
        "momentum_ranks = momentum_df.rank(axis=1,ascending=False, method = 'first')\n",
        "\n",
        "# Selcting to 20% stocks for each period\n",
        "top_20_percent = int(len(momentum_ranks.columns) * 0.2)\n",
        "selected_momentum_stocks = momentum_ranks.apply(lambda row: row[row <= top_20_percent].index.tolist(), axis=1)\n",
        "\n",
        "\n",
        "print(selected_momentum_stocks)"
      ],
      "metadata": {
        "colab": {
          "base_uri": "https://localhost:8080/"
        },
        "id": "oQGPpnzcZ1BT",
        "outputId": "288aca4f-1c94-48ef-9b74-09b3d6deaad7"
      },
      "execution_count": 38,
      "outputs": [
        {
          "output_type": "stream",
          "name": "stdout",
          "text": [
            "Date\n",
            "2010-01-07                                                   []\n",
            "2010-01-08                                                   []\n",
            "2010-01-11                                                   []\n",
            "2010-01-12                                                   []\n",
            "2010-01-13                                                   []\n",
            "                                    ...                        \n",
            "2019-05-30    [(3M, BAJAJFINSV.NS), (3M, BAJFINANCE.NS), (3M...\n",
            "2019-05-31    [(3M, BAJAJFINSV.NS), (3M, BAJFINANCE.NS), (3M...\n",
            "2019-06-03    [(3M, ADANIPORTS.NS), (3M, BAJAJFINSV.NS), (3M...\n",
            "2019-06-04    [(3M, ADANIPORTS.NS), (3M, BAJAJFINSV.NS), (3M...\n",
            "2019-06-06    [(3M, ADANIPORTS.NS), (3M, BAJAJFINSV.NS), (3M...\n",
            "Length: 2321, dtype: object\n"
          ]
        }
      ]
    },
    {
      "cell_type": "markdown",
      "source": [
        "Constructing equal-weighted momentum portfolio"
      ],
      "metadata": {
        "id": "QpE-IZWibFht"
      }
    },
    {
      "cell_type": "code",
      "source": [
        "# Extract only stock names from the tuples\n",
        "selected_stocks_cleaned = selected_momentum_stocks.apply(lambda x: [stock[1] for stock in x])\n",
        "print(selected_stocks_cleaned.tail())"
      ],
      "metadata": {
        "colab": {
          "base_uri": "https://localhost:8080/"
        },
        "id": "OUUIhiywcajw",
        "outputId": "7ce2b5c9-2796-4b83-9172-cf6264f9b83e"
      },
      "execution_count": 37,
      "outputs": [
        {
          "output_type": "stream",
          "name": "stdout",
          "text": [
            "Date\n",
            "2019-05-30    [BAJAJFINSV.NS, BAJFINANCE.NS, ICICIGI.NS, SBI...\n",
            "2019-05-31    [BAJAJFINSV.NS, BAJFINANCE.NS, ICICIGI.NS, SBI...\n",
            "2019-06-03    [ADANIPORTS.NS, BAJAJFINSV.NS, BAJFINANCE.NS, ...\n",
            "2019-06-04    [ADANIPORTS.NS, BAJAJFINSV.NS, BAJFINANCE.NS, ...\n",
            "2019-06-06    [ADANIPORTS.NS, BAJAJFINSV.NS, BAJFINANCE.NS, ...\n",
            "dtype: object\n"
          ]
        }
      ]
    },
    {
      "cell_type": "code",
      "source": [
        "#Fixing compute_portfolio_returns\n",
        "def compute_portfolio_returns(selected_stocks, stock_data):\n",
        "    stock_returns = stock_data['Close'].pct_change(fill_method = None)  # Compute daily returns for all stocks\n",
        "    portfolio_returns = []\n",
        "\n",
        "    for date, stocks in selected_stocks.items():\n",
        "        valid_stocks = [s for s in stocks if s in stock_returns.columns]  # ✅ Ensure valid stocks\n",
        "        if valid_stocks:\n",
        "            daily_return = stock_returns.loc[date, valid_stocks].mean()  # Equal-weighted return\n",
        "            portfolio_returns.append(daily_return)\n",
        "        else:\n",
        "            portfolio_returns.append(None)  # Append NaN if no valid stocks\n",
        "\n",
        "    return pd.Series(portfolio_returns, index=selected_stocks.index)\n",
        "\n",
        "# Compute portfolio returns correctly\n",
        "momentum_portfolio_returns = compute_portfolio_returns(selected_stocks_cleaned, stock_data)\n",
        "\n",
        "#Display last few portfolio returns\n",
        "print(momentum_portfolio_returns)\n"
      ],
      "metadata": {
        "colab": {
          "base_uri": "https://localhost:8080/"
        },
        "id": "sQ11mNxwbXtj",
        "outputId": "d2f67ed8-db45-4b5f-9bc5-6603109dbc30"
      },
      "execution_count": 42,
      "outputs": [
        {
          "output_type": "stream",
          "name": "stdout",
          "text": [
            "Date\n",
            "2010-01-07         NaN\n",
            "2010-01-08         NaN\n",
            "2010-01-11         NaN\n",
            "2010-01-12         NaN\n",
            "2010-01-13         NaN\n",
            "                ...   \n",
            "2019-05-30    0.009053\n",
            "2019-05-31    0.002846\n",
            "2019-06-03    0.018980\n",
            "2019-06-04   -0.004626\n",
            "2019-06-06   -0.017902\n",
            "Length: 2321, dtype: float64\n"
          ]
        }
      ]
    },
    {
      "cell_type": "code",
      "source": [
        "print(stock_data['Close'].columns)\n"
      ],
      "metadata": {
        "colab": {
          "base_uri": "https://localhost:8080/"
        },
        "id": "-wrmHy7OxUX-",
        "outputId": "32c96f13-0204-4cbc-92a6-ffeacddfaa98"
      },
      "execution_count": 55,
      "outputs": [
        {
          "output_type": "stream",
          "name": "stdout",
          "text": [
            "Index(['ADANIPORTS.NS', 'APOLLOHOSP.NS', 'ASIANPAINT.NS', 'AXISBANK.NS',\n",
            "       'BAJAJ-AUTO.NS', 'BAJAJFINSV.NS', 'BAJFINANCE.NS', 'BHARTIARTL.NS',\n",
            "       'BPCL.NS', 'BRITANNIA.NS', 'CIPLA.NS', 'COALINDIA.NS', 'DIVISLAB.NS',\n",
            "       'DLF.NS', 'DRREDDY.NS', 'EICHERMOT.NS', 'GRASIM.NS', 'HCLTECH.NS',\n",
            "       'HDFCBANK.NS', 'HDFCLIFE.NS', 'HEROMOTOCO.NS', 'HINDALCO.NS',\n",
            "       'HINDUNILVR.NS', 'ICICIBANK.NS', 'ICICIGI.NS', 'ICICIPRULI.NS',\n",
            "       'INDUSINDBK.NS', 'INFY.NS', 'ITC.NS', 'JSWSTEEL.NS', 'KOTAKBANK.NS',\n",
            "       'LT.NS', 'M&M.NS', 'MARUTI.NS', 'NESTLEIND.NS', 'NTPC.NS', 'ONGC.NS',\n",
            "       'POWERGRID.NS', 'RELIANCE.NS', 'SBILIFE.NS', 'SBIN.NS', 'SHREECEM.NS',\n",
            "       'SUNPHARMA.NS', 'TATAMOTORS.NS', 'TATASTEEL.NS', 'TCS.NS', 'TECHM.NS',\n",
            "       'TITAN.NS', 'ULTRACEMCO.NS', 'UPL.NS', 'WIPRO.NS'],\n",
            "      dtype='object', name='Ticker')\n"
          ]
        }
      ]
    },
    {
      "cell_type": "code",
      "source": [
        "benchmark_returns = stock_data['Close'].pct_change(fill_method = None).mean(axis=1)\n"
      ],
      "metadata": {
        "id": "cjqr6okWxYfW"
      },
      "execution_count": 57,
      "outputs": []
    },
    {
      "cell_type": "code",
      "source": [
        "# Compute benchmark returns (use equal-weighted portfolio if ^NSEI not found)\n",
        "if \"^NSEI\" in stock_data['Close'].columns:\n",
        "    benchmark_returns = stock_data['Close'][\"^NSEI\"].pct_change(fill_method=None)\n",
        "else:\n",
        "    benchmark_returns = stock_data['Close'].pct_change(fill_method=None).mean(axis=1)  # Equal-weighted benchmark\n"
      ],
      "metadata": {
        "id": "pzGjPwu3xlGb"
      },
      "execution_count": 61,
      "outputs": []
    },
    {
      "cell_type": "code",
      "source": [
        "import matplotlib.pyplot as plt\n",
        "\n",
        "# Compute cumulative returns for both\n",
        "momentum_cum_returns = (1 + momentum_portfolio_returns).cumprod()\n",
        "benchmark_cum_returns = (1 + benchmark_returns).cumprod()\n",
        "\n",
        "# Plot the performance\n",
        "plt.figure(figsize=(12, 6))\n",
        "plt.plot(momentum_cum_returns, label=\"Momentum Strategy\", color=\"blue\")\n",
        "plt.plot(benchmark_cum_returns, label=\"Benchmark (NIFTY 50)\", color=\"red\", linestyle=\"dashed\")\n",
        "plt.xlabel(\"Date\")\n",
        "plt.ylabel(\"Cumulative Returns\")\n",
        "plt.title(\"Backtesting: Momentum Strategy vs Benchmark\")\n",
        "plt.legend()\n",
        "plt.show()"
      ],
      "metadata": {
        "colab": {
          "base_uri": "https://localhost:8080/",
          "height": 564
        },
        "id": "3-d0IcG9w6Si",
        "outputId": "b88e24e3-449c-496d-cb06-a387d71c3469"
      },
      "execution_count": 62,
      "outputs": [
        {
          "output_type": "display_data",
          "data": {
            "text/plain": [
              "<Figure size 1200x600 with 1 Axes>"
            ],
            "image/png": "[encoded data removed]"
          },
          "metadata": {}
        }
      ]
    },
    {
      "cell_type": "markdown",
      "source": [
        "###Conclusion Made in the above curve:\n",
        "1. The momentum strategy significantly outperforms the NIFTY 50 benchmark over the backtesting period (2010-2019).\n",
        "2. While NIFTY 50 shows steady but low growth, the momentum strategy exhibits exponential growth, especially after 2015.\n",
        "3. This suggests that your stock selection and rebalancing method effectively captures high-performing stocks\n",
        "4. The sharp increases in 2017-2019 indicate that the strategy performs exceptionally well in bullish markets\n",
        "5. The NIFTY 50 returns remain relatively flat compared to the strategy"
      ],
      "metadata": {
        "id": "w8Gc4_3a0rjG"
      }
    },
    {
      "cell_type": "code",
      "source": [
        "import numpy as np\n",
        "\n",
        "# Assuming daily returns\n",
        "sharpe_ratio = (momentum_portfolio_returns.mean() / momentum_portfolio_returns.std()) * np.sqrt(252)\n",
        "print(f\"Sharpe Ratio: {sharpe_ratio:.2f}\")\n"
      ],
      "metadata": {
        "colab": {
          "base_uri": "https://localhost:8080/"
        },
        "id": "zpqsBJbNya0S",
        "outputId": "60a7b883-13a8-4dda-cc2d-e2b95a7c200c"
      },
      "execution_count": 63,
      "outputs": [
        {
          "output_type": "stream",
          "name": "stdout",
          "text": [
            "Sharpe Ratio: 3.97\n"
          ]
        }
      ]
    },
    {
      "cell_type": "code",
      "source": [
        "def max_drawdown(returns):\n",
        "    cumulative = (1 + returns).cumprod()\n",
        "    peak = cumulative.cummax()\n",
        "    drawdown = (cumulative - peak) / peak\n",
        "    return drawdown.min()\n",
        "\n",
        "max_dd = max_drawdown(momentum_portfolio_returns)\n",
        "print(f\"Max Drawdown: {max_dd:.2%}\")\n"
      ],
      "metadata": {
        "colab": {
          "base_uri": "https://localhost:8080/"
        },
        "id": "O_q5dPqByhv5",
        "outputId": "58a4fec4-6458-4a27-9429-34a5ae051b4b"
      },
      "execution_count": 64,
      "outputs": [
        {
          "output_type": "stream",
          "name": "stdout",
          "text": [
            "Max Drawdown: -10.33%\n"
          ]
        }
      ]
    },
    {
      "cell_type": "code",
      "source": [
        "win_rate = (momentum_portfolio_returns > 0).sum() / len(momentum_portfolio_returns)\n",
        "print(f\"Win Rate: {win_rate:.2%}\")\n"
      ],
      "metadata": {
        "colab": {
          "base_uri": "https://localhost:8080/"
        },
        "id": "yRay5cBDyrcI",
        "outputId": "af0e5cb8-0662-439e-d202-bc1dc1c7f7dd"
      },
      "execution_count": 66,
      "outputs": [
        {
          "output_type": "stream",
          "name": "stdout",
          "text": [
            "Win Rate: 60.88%\n"
          ]
        }
      ]
    },
    {
      "cell_type": "code",
      "source": [
        "# Check correlation between past momentum and future returns\n",
        "future_returns = stock_data['Close'].pct_change(periods=30, fill_method=None)  # 1-month future returns\n",
        "mean_reversion_correlation = momentum_df.corrwith(future_returns)\n",
        "\n",
        "print(mean_reversion_correlation.sort_values())  # If negative, indicates mean reversion\n"
      ],
      "metadata": {
        "colab": {
          "base_uri": "https://localhost:8080/"
        },
        "id": "kFYpg2vSgHn2",
        "outputId": "d00ba180-a542-48fd-af31-31431388aef2"
      },
      "execution_count": 47,
      "outputs": [
        {
          "output_type": "stream",
          "name": "stdout",
          "text": [
            "(12M, HDFCLIFE.NS)      0.146838\n",
            "(12M, DIVISLAB.NS)      0.202208\n",
            "(12M, COALINDIA.NS)     0.221109\n",
            "(12M, ICICIPRULI.NS)    0.238734\n",
            "(12M, ONGC.NS)          0.247616\n",
            "                          ...   \n",
            "TECHM.NS                     NaN\n",
            "TITAN.NS                     NaN\n",
            "ULTRACEMCO.NS                NaN\n",
            "UPL.NS                       NaN\n",
            "WIPRO.NS                     NaN\n",
            "Length: 204, dtype: float64\n"
          ]
        }
      ]
    },
    {
      "cell_type": "markdown",
      "source": [],
      "metadata": {
        "id": "NvS_LoKtfl_q"
      }
    }
  ]
}